{
 "cells": [
  {
   "cell_type": "code",
   "execution_count": 1,
   "id": "b3a68356",
   "metadata": {},
   "outputs": [
    {
     "name": "stdout",
     "output_type": "stream",
     "text": [
      "Help on function escaleta in module __main__:\n",
      "\n",
      "escaleta()\n",
      "    1. #Importar Librerías\n",
      "    2. #explorar csv\n",
      "    3. #dimensiones de la tabla\n",
      "    4. #100% numéricas: año y original order\n",
      "    5. #espacio que ocupa\n",
      "    6. #Edición de Encabezados de columnas, estandarizadas en minúscula y sin espacios\n",
      "    7. #Contar casos unicos y frecuencia\n",
      "    8. #Manejo de valores nulos\n",
      "    9. #Contar valores nulos\n",
      "    9. #Eliminar las filas con valores NaN en la columna \"country\"\n",
      "    10.#nuevo data frame con base en información de country\n",
      "    11.#Eliminar las filas con valores NaN en la columna \"country\"\n",
      "    12.#inicia la figura y establece el tamaño\n",
      "    13.#limpiar nan en todas las columnas \n",
      "    14.#inicia la figura y establece el tamaño sin nan\n",
      "    15.#Top 15 de ataques por país\n",
      "    16.#Revisamos datos estadísticos agrupando el país\n",
      "    17.#Computar the mean por country\n",
      "    18.# Computar la mediana por country\n",
      "    19.# Computar la desviación estandar por country\n",
      "    20.# Revisamos datos estadísticos de cada año agrupando el país\n",
      "    21.# Contamos los valores de cada año \n",
      "    22.#Computar la media por año\n",
      "    23.#Computar la mediana por año\n",
      "    24.#Computar la desviación standard por año\n",
      "    25.#estadística por año y registros\n",
      "    26.#valores únicos para la columna year\n",
      "\n"
     ]
    }
   ],
   "source": [
    "def escaleta():\n",
    "    '''\n",
    "    1. #Importar Librerías\n",
    "    2. #explorar csv\n",
    "    3. #dimensiones de la tabla\n",
    "    4. #100% numéricas: año y original order\n",
    "    5. #espacio que ocupa\n",
    "    6. #Edición de Encabezados de columnas, estandarizadas en minúscula y sin espacios\n",
    "    7. #Contar casos unicos y frecuencia\n",
    "    8. #Manejo de valores nulos\n",
    "    9. #Contar valores nulos\n",
    "    9. #Eliminar las filas con valores NaN en la columna \"country\"\n",
    "    10.#nuevo data frame con base en información de country\n",
    "    11.#Eliminar las filas con valores NaN en la columna \"country\"\n",
    "    12.#inicia la figura y establece el tamaño\n",
    "    13.#limpiar nan en todas las columnas \n",
    "    14.#inicia la figura y establece el tamaño sin nan\n",
    "    15.#Top 15 de ataques por país\n",
    "    16.#Revisamos datos estadísticos agrupando el país\n",
    "    17.#Computar the mean por country\n",
    "    18.# Computar la mediana por country\n",
    "    19.# Computar la desviación estandar por country\n",
    "    20.# Revisamos datos estadísticos de cada año agrupando el país\n",
    "    21.# Contamos los valores de cada año \n",
    "    22.#Computar la media por año\n",
    "    23.#Computar la mediana por año\n",
    "    24.#Computar la desviación standard por año\n",
    "    25.#estadística por año y registros\n",
    "    26.#valores únicos para la columna year\n",
    "       \n",
    "    '''\n",
    "    return None\n",
    "\n",
    "help(escaleta)"
   ]
  },
  {
   "cell_type": "code",
   "execution_count": 2,
   "id": "fc7c5cab",
   "metadata": {},
   "outputs": [],
   "source": [
    "#Importar Librerías\n",
    "#%pip install ipython\n",
    "#%pip install pandas\n",
    "#%pip install seaborn\n",
    "#%matplotlib inline"
   ]
  },
  {
   "cell_type": "code",
   "execution_count": 18,
   "id": "a8c83d87",
   "metadata": {},
   "outputs": [],
   "source": [
    "import pandas as pd\n",
    "import numpy as np\n",
    "import pylab as plt   \n",
    "import seaborn as sns\n",
    "import datetime\n",
    "import warnings\n",
    "warnings.filterwarnings('ignore')   # para quitar esos prints"
   ]
  },
  {
   "cell_type": "code",
   "execution_count": 60,
   "id": "4e6e1cfa",
   "metadata": {},
   "outputs": [
    {
     "data": {
      "text/html": [
       "<div>\n",
       "<style scoped>\n",
       "    .dataframe tbody tr th:only-of-type {\n",
       "        vertical-align: middle;\n",
       "    }\n",
       "\n",
       "    .dataframe tbody tr th {\n",
       "        vertical-align: top;\n",
       "    }\n",
       "\n",
       "    .dataframe thead th {\n",
       "        text-align: right;\n",
       "    }\n",
       "</style>\n",
       "<table border=\"1\" class=\"dataframe\">\n",
       "  <thead>\n",
       "    <tr style=\"text-align: right;\">\n",
       "      <th></th>\n",
       "      <th>Comunidades y ciudades autónomas</th>\n",
       "      <th>Sexo</th>\n",
       "      <th>País de nacimiento</th>\n",
       "      <th>Grupo quinquenal de edad</th>\n",
       "      <th>Periodo</th>\n",
       "      <th>Total</th>\n",
       "    </tr>\n",
       "  </thead>\n",
       "  <tbody>\n",
       "    <tr>\n",
       "      <th>0</th>\n",
       "      <td>01 Andalucía</td>\n",
       "      <td>Hombres</td>\n",
       "      <td>Extranjero</td>\n",
       "      <td>De 0 a 4 años</td>\n",
       "      <td>2022S1</td>\n",
       "      <td>1433</td>\n",
       "    </tr>\n",
       "    <tr>\n",
       "      <th>1</th>\n",
       "      <td>01 Andalucía</td>\n",
       "      <td>Hombres</td>\n",
       "      <td>Extranjero</td>\n",
       "      <td>De 0 a 4 años</td>\n",
       "      <td>2021S2</td>\n",
       "      <td>968</td>\n",
       "    </tr>\n",
       "    <tr>\n",
       "      <th>2</th>\n",
       "      <td>01 Andalucía</td>\n",
       "      <td>Hombres</td>\n",
       "      <td>Extranjero</td>\n",
       "      <td>De 0 a 4 años</td>\n",
       "      <td>2021S1</td>\n",
       "      <td>634</td>\n",
       "    </tr>\n",
       "    <tr>\n",
       "      <th>3</th>\n",
       "      <td>01 Andalucía</td>\n",
       "      <td>Hombres</td>\n",
       "      <td>Extranjero</td>\n",
       "      <td>De 0 a 4 años</td>\n",
       "      <td>2020S2</td>\n",
       "      <td>721</td>\n",
       "    </tr>\n",
       "    <tr>\n",
       "      <th>4</th>\n",
       "      <td>01 Andalucía</td>\n",
       "      <td>Hombres</td>\n",
       "      <td>Extranjero</td>\n",
       "      <td>De 0 a 4 años</td>\n",
       "      <td>2020S1</td>\n",
       "      <td>754</td>\n",
       "    </tr>\n",
       "  </tbody>\n",
       "</table>\n",
       "</div>"
      ],
      "text/plain": [
       "  Comunidades y ciudades autónomas     Sexo País de nacimiento  \\\n",
       "0                     01 Andalucía  Hombres         Extranjero   \n",
       "1                     01 Andalucía  Hombres         Extranjero   \n",
       "2                     01 Andalucía  Hombres         Extranjero   \n",
       "3                     01 Andalucía  Hombres         Extranjero   \n",
       "4                     01 Andalucía  Hombres         Extranjero   \n",
       "\n",
       "  Grupo quinquenal de edad Periodo  Total  \n",
       "0            De 0 a 4 años  2022S1   1433  \n",
       "1            De 0 a 4 años  2021S2    968  \n",
       "2            De 0 a 4 años  2021S1    634  \n",
       "3            De 0 a 4 años  2020S2    721  \n",
       "4            De 0 a 4 años  2020S1    754  "
      ]
     },
     "execution_count": 60,
     "metadata": {},
     "output_type": "execute_result"
    }
   ],
   "source": [
    "#explorar csv\n",
    "migration = pd.read_csv('./data/migration_spain.csv', sep=';', error_bad_lines=False, encoding='utf-8')\n",
    "migration.head()"
   ]
  },
  {
   "cell_type": "code",
   "execution_count": null,
   "id": "3532e548",
   "metadata": {},
   "outputs": [],
   "source": []
  },
  {
   "cell_type": "code",
   "execution_count": null,
   "id": "5c8effdd",
   "metadata": {},
   "outputs": [],
   "source": []
  },
  {
   "cell_type": "code",
   "execution_count": null,
   "id": "de3be17e",
   "metadata": {},
   "outputs": [],
   "source": []
  },
  {
   "cell_type": "code",
   "execution_count": null,
   "id": "8f97b2e1",
   "metadata": {},
   "outputs": [],
   "source": []
  },
  {
   "cell_type": "code",
   "execution_count": null,
   "id": "3a72a182",
   "metadata": {},
   "outputs": [],
   "source": []
  },
  {
   "cell_type": "code",
   "execution_count": null,
   "id": "305ec5a0",
   "metadata": {},
   "outputs": [],
   "source": []
  },
  {
   "cell_type": "code",
   "execution_count": null,
   "id": "b1930f72",
   "metadata": {},
   "outputs": [],
   "source": []
  },
  {
   "cell_type": "code",
   "execution_count": null,
   "id": "2b1753a5",
   "metadata": {},
   "outputs": [],
   "source": []
  },
  {
   "cell_type": "code",
   "execution_count": null,
   "id": "5e35b79d",
   "metadata": {},
   "outputs": [],
   "source": []
  },
  {
   "cell_type": "code",
   "execution_count": null,
   "id": "dbec4efd",
   "metadata": {},
   "outputs": [],
   "source": []
  },
  {
   "cell_type": "code",
   "execution_count": null,
   "id": "9d4262f4",
   "metadata": {},
   "outputs": [],
   "source": []
  },
  {
   "cell_type": "code",
   "execution_count": null,
   "id": "fa6cb865",
   "metadata": {},
   "outputs": [],
   "source": []
  },
  {
   "cell_type": "code",
   "execution_count": null,
   "id": "fddd2902",
   "metadata": {},
   "outputs": [],
   "source": []
  },
  {
   "cell_type": "code",
   "execution_count": null,
   "id": "16a5899e",
   "metadata": {},
   "outputs": [],
   "source": []
  },
  {
   "cell_type": "code",
   "execution_count": null,
   "id": "042c981c",
   "metadata": {},
   "outputs": [],
   "source": []
  },
  {
   "cell_type": "code",
   "execution_count": null,
   "id": "61a7bf9b",
   "metadata": {},
   "outputs": [],
   "source": []
  }
 ],
 "metadata": {
  "kernelspec": {
   "display_name": "Python 3 (ipykernel)",
   "language": "python",
   "name": "python3"
  },
  "language_info": {
   "codemirror_mode": {
    "name": "ipython",
    "version": 3
   },
   "file_extension": ".py",
   "mimetype": "text/x-python",
   "name": "python",
   "nbconvert_exporter": "python",
   "pygments_lexer": "ipython3",
   "version": "3.9.13"
  }
 },
 "nbformat": 4,
 "nbformat_minor": 5
}
